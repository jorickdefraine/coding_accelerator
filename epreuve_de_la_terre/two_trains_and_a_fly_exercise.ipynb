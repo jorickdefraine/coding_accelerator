{
 "cells": [
  {
   "cell_type": "code",
   "execution_count": 4,
   "id": "161c9e4a",
   "metadata": {},
   "outputs": [],
   "source": [
    "def f(v1,v2,vf,d):\n",
    "    return (vf*d)/(v1+v2)"
   ]
  },
  {
   "cell_type": "code",
   "execution_count": 5,
   "id": "bd62b2e9",
   "metadata": {},
   "outputs": [
    {
     "data": {
      "text/plain": [
       "12000.0"
      ]
     },
     "execution_count": 5,
     "metadata": {},
     "output_type": "execute_result"
    }
   ],
   "source": [
    "f(50,50,120,10000)"
   ]
  },
  {
   "cell_type": "code",
   "execution_count": 6,
   "id": "46b456a6",
   "metadata": {},
   "outputs": [
    {
     "data": {
      "text/plain": [
       "6666.666666666667"
      ]
     },
     "execution_count": 6,
     "metadata": {},
     "output_type": "execute_result"
    }
   ],
   "source": [
    "f(0,60,80,5000)"
   ]
  },
  {
   "cell_type": "code",
   "execution_count": 7,
   "id": "d1b818a6",
   "metadata": {},
   "outputs": [
    {
     "data": {
      "text/plain": [
       "6155.056179775281"
      ]
     },
     "execution_count": 7,
     "metadata": {},
     "output_type": "execute_result"
    }
   ],
   "source": [
    "f(48,41,44,12450)"
   ]
  },
  {
   "cell_type": "code",
   "execution_count": 8,
   "id": "79e6e51b",
   "metadata": {},
   "outputs": [
    {
     "data": {
      "text/plain": [
       "76608.42105263157"
      ]
     },
     "execution_count": 8,
     "metadata": {},
     "output_type": "execute_result"
    }
   ],
   "source": [
    "f(110,99,110,145556)"
   ]
  },
  {
   "cell_type": "code",
   "execution_count": 10,
   "id": "5a7e9fe4",
   "metadata": {},
   "outputs": [
    {
     "data": {
      "text/plain": [
       "25085.16746411483"
      ]
     },
     "execution_count": 10,
     "metadata": {},
     "output_type": "execute_result"
    }
   ],
   "source": [
    "f(110,99,340,15420)"
   ]
  },
  {
   "cell_type": "code",
   "execution_count": null,
   "id": "666ab05e",
   "metadata": {},
   "outputs": [],
   "source": []
  }
 ],
 "metadata": {
  "kernelspec": {
   "display_name": "Python 3 (ipykernel)",
   "language": "python",
   "name": "python3"
  },
  "language_info": {
   "codemirror_mode": {
    "name": "ipython",
    "version": 3
   },
   "file_extension": ".py",
   "mimetype": "text/x-python",
   "name": "python",
   "nbconvert_exporter": "python",
   "pygments_lexer": "ipython3",
   "version": "3.11.3"
  }
 },
 "nbformat": 4,
 "nbformat_minor": 5
}
