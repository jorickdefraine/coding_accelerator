{
 "cells": [
  {
   "cell_type": "code",
   "execution_count": 11,
   "id": "239af690",
   "metadata": {},
   "outputs": [],
   "source": [
    "def check_parenthesis(s):\n",
    "    if s==\"\":\n",
    "        return \"true\"\n",
    "    elif not(\"()\") in s:\n",
    "        return \"false\"\n",
    "    else:\n",
    "        return check_parenthesis(s.replace(\"()\",\"\"))"
   ]
  },
  {
   "cell_type": "code",
   "execution_count": 22,
   "id": "beed05c3",
   "metadata": {},
   "outputs": [],
   "source": [
    "s = \"(())((((((((((((())))))))))))\""
   ]
  },
  {
   "cell_type": "code",
   "execution_count": 23,
   "id": "e0f85288",
   "metadata": {},
   "outputs": [
    {
     "data": {
      "text/plain": [
       "'false'"
      ]
     },
     "execution_count": 23,
     "metadata": {},
     "output_type": "execute_result"
    }
   ],
   "source": [
    "check_parenthesis(s)"
   ]
  },
  {
   "cell_type": "code",
   "execution_count": null,
   "id": "247b9f33",
   "metadata": {},
   "outputs": [],
   "source": []
  }
 ],
 "metadata": {
  "kernelspec": {
   "display_name": "Python 3 (ipykernel)",
   "language": "python",
   "name": "python3"
  },
  "language_info": {
   "codemirror_mode": {
    "name": "ipython",
    "version": 3
   },
   "file_extension": ".py",
   "mimetype": "text/x-python",
   "name": "python",
   "nbconvert_exporter": "python",
   "pygments_lexer": "ipython3",
   "version": "3.11.3"
  }
 },
 "nbformat": 4,
 "nbformat_minor": 5
}
